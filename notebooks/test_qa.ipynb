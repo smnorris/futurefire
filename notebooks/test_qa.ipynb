{
 "cells": [
  {
   "cell_type": "markdown",
   "metadata": {},
   "source": [
    "A quick look at test burned areas output for the 51 year period:\n",
    "- Scenario: low\n",
    "- Draw: 1\n",
    "- Region: Coast"
   ]
  },
  {
   "cell_type": "code",
   "execution_count": 18,
   "metadata": {},
   "outputs": [
    {
     "data": {
      "text/html": [
       "<div>\n",
       "<style scoped>\n",
       "    .dataframe tbody tr th:only-of-type {\n",
       "        vertical-align: middle;\n",
       "    }\n",
       "\n",
       "    .dataframe tbody tr th {\n",
       "        vertical-align: top;\n",
       "    }\n",
       "\n",
       "    .dataframe thead th {\n",
       "        text-align: right;\n",
       "    }\n",
       "</style>\n",
       "<table border=\"1\" class=\"dataframe\">\n",
       "  <thead>\n",
       "    <tr style=\"text-align: right;\">\n",
       "      <th></th>\n",
       "      <th>burnid</th>\n",
       "      <th>year</th>\n",
       "      <th>region</th>\n",
       "      <th>runid</th>\n",
       "      <th>target_area</th>\n",
       "      <th>iteration</th>\n",
       "      <th>burned_forest_area</th>\n",
       "      <th>ellipse_area</th>\n",
       "    </tr>\n",
       "  </thead>\n",
       "  <tbody>\n",
       "    <tr>\n",
       "      <th>0</th>\n",
       "      <td>1</td>\n",
       "      <td>2020</td>\n",
       "      <td>Coast</td>\n",
       "      <td>1</td>\n",
       "      <td>864</td>\n",
       "      <td>2</td>\n",
       "      <td>865.0</td>\n",
       "      <td>907.2</td>\n",
       "    </tr>\n",
       "    <tr>\n",
       "      <th>1</th>\n",
       "      <td>972</td>\n",
       "      <td>2021</td>\n",
       "      <td>Coast</td>\n",
       "      <td>1</td>\n",
       "      <td>100</td>\n",
       "      <td>15</td>\n",
       "      <td>103.0</td>\n",
       "      <td>170.0</td>\n",
       "    </tr>\n",
       "    <tr>\n",
       "      <th>2</th>\n",
       "      <td>1901</td>\n",
       "      <td>2022</td>\n",
       "      <td>Coast</td>\n",
       "      <td>1</td>\n",
       "      <td>740</td>\n",
       "      <td>17</td>\n",
       "      <td>736.0</td>\n",
       "      <td>1332.0</td>\n",
       "    </tr>\n",
       "    <tr>\n",
       "      <th>3</th>\n",
       "      <td>1902</td>\n",
       "      <td>2022</td>\n",
       "      <td>Coast</td>\n",
       "      <td>1</td>\n",
       "      <td>3668</td>\n",
       "      <td>10</td>\n",
       "      <td>3845.0</td>\n",
       "      <td>5318.6</td>\n",
       "    </tr>\n",
       "    <tr>\n",
       "      <th>4</th>\n",
       "      <td>1903</td>\n",
       "      <td>2022</td>\n",
       "      <td>Coast</td>\n",
       "      <td>1</td>\n",
       "      <td>834</td>\n",
       "      <td>2</td>\n",
       "      <td>876.0</td>\n",
       "      <td>875.7</td>\n",
       "    </tr>\n",
       "  </tbody>\n",
       "</table>\n",
       "</div>"
      ],
      "text/plain": [
       "   burnid  year region  runid  target_area  iteration  burned_forest_area  \\\n",
       "0       1  2020  Coast      1          864          2               865.0   \n",
       "1     972  2021  Coast      1          100         15               103.0   \n",
       "2    1901  2022  Coast      1          740         17               736.0   \n",
       "3    1902  2022  Coast      1         3668         10              3845.0   \n",
       "4    1903  2022  Coast      1          834          2               876.0   \n",
       "\n",
       "   ellipse_area  \n",
       "0         907.2  \n",
       "1         170.0  \n",
       "2        1332.0  \n",
       "3        5318.6  \n",
       "4         875.7  "
      ]
     },
     "execution_count": 18,
     "metadata": {},
     "output_type": "execute_result"
    }
   ],
   "source": [
    "%matplotlib inline\n",
    "import pandas\n",
    "\n",
    "df = pandas.read_csv(\"https://hillcrestgeo.ca/outgoing/public/lowscenario_1/lowscenario_burns.csv\")\n",
    "df.head()"
   ]
  },
  {
   "cell_type": "code",
   "execution_count": 19,
   "metadata": {},
   "outputs": [
    {
     "name": "stdout",
     "output_type": "stream",
     "text": [
      "Target burned area for draw: 592578\n",
      "Actual burned area for draw: 594497.0\n",
      "Percent difference: 0.32%\n"
     ]
    }
   ],
   "source": [
    "# compare output areas for total period (51 years)\n",
    "\n",
    "total_target = df.target_area.sum()\n",
    "total_burned = df.burned_forest_area.sum()\n",
    "pct_diff = round(100 * (abs(total_target - total_burned) / total_target), 2)\n",
    "print(\"Target burned area for draw: {}\".format(total_target))\n",
    "print(\"Actual burned area for draw: {}\".format(total_burned))\n",
    "print(\"Percent difference: {}%\".format(pct_diff))"
   ]
  },
  {
   "cell_type": "code",
   "execution_count": 20,
   "metadata": {},
   "outputs": [
    {
     "data": {
      "text/plain": [
       "<matplotlib.axes._subplots.AxesSubplot at 0x11e6e3860>"
      ]
     },
     "execution_count": 20,
     "metadata": {},
     "output_type": "execute_result"
    },
    {
     "data": {
      "image/png": "[encoded data removed]",
      "text/plain": [
       "<Figure size 432x288 with 1 Axes>"
      ]
     },
     "metadata": {
      "needs_background": "light"
     },
     "output_type": "display_data"
    }
   ],
   "source": [
    "# look at histogram of absolute difference between target area and burned area for all fires\n",
    "\n",
    "diff = abs(df[\"target_area\"] - df[\"burned_forest_area\"])\n",
    "diff.hist(bins=30)"
   ]
  },
  {
   "cell_type": "code",
   "execution_count": 22,
   "metadata": {},
   "outputs": [
    {
     "data": {
      "text/plain": [
       "<matplotlib.axes._subplots.AxesSubplot at 0x11e87cc88>"
      ]
     },
     "execution_count": 22,
     "metadata": {},
     "output_type": "execute_result"
    },
    {
     "data": {
      "image/png": "[encoded data removed]",
      "text/plain": [
       "<Figure size 432x288 with 1 Axes>"
      ]
     },
     "metadata": {
      "needs_background": "light"
     },
     "output_type": "display_data"
    }
   ],
   "source": [
    "# histogram of pct difference between target area and burned area for each fire\n",
    "\n",
    "diff = (abs(df[\"target_area\"] - df[\"burned_forest_area\"]) / df[\"target_area\"])\n",
    "diff.hist(bins=30)"
   ]
  },
  {
   "cell_type": "code",
   "execution_count": 24,
   "metadata": {},
   "outputs": [
    {
     "data": {
      "text/plain": [
       "array([[<matplotlib.axes._subplots.AxesSubplot object at 0x10e175f28>]],\n",
       "      dtype=object)"
      ]
     },
     "execution_count": 24,
     "metadata": {},
     "output_type": "execute_result"
    },
    {
     "data": {
      "image/png": "[encoded data removed]",
      "text/plain": [
       "<Figure size 432x288 with 1 Axes>"
      ]
     },
     "metadata": {
      "needs_background": "light"
     },
     "output_type": "display_data"
    }
   ],
   "source": [
    "# and plot iterations (ellipse expansions to capture enough forest area) per fire\n",
    "df.hist(\"iteration\", bins=30)"
   ]
  },
  {
   "cell_type": "code",
   "execution_count": 26,
   "metadata": {},
   "outputs": [
    {
     "data": {
      "text/html": [
       "<div>\n",
       "<style scoped>\n",
       "    .dataframe tbody tr th:only-of-type {\n",
       "        vertical-align: middle;\n",
       "    }\n",
       "\n",
       "    .dataframe tbody tr th {\n",
       "        vertical-align: top;\n",
       "    }\n",
       "\n",
       "    .dataframe thead th {\n",
       "        text-align: right;\n",
       "    }\n",
       "</style>\n",
       "<table border=\"1\" class=\"dataframe\">\n",
       "  <thead>\n",
       "    <tr style=\"text-align: right;\">\n",
       "      <th></th>\n",
       "      <th>burnid</th>\n",
       "      <th>year</th>\n",
       "      <th>region</th>\n",
       "      <th>runid</th>\n",
       "      <th>target_area</th>\n",
       "      <th>iteration</th>\n",
       "      <th>burned_forest_area</th>\n",
       "      <th>ellipse_area</th>\n",
       "    </tr>\n",
       "  </thead>\n",
       "  <tbody>\n",
       "    <tr>\n",
       "      <th>264</th>\n",
       "      <td>19136</td>\n",
       "      <td>2034</td>\n",
       "      <td>Coast</td>\n",
       "      <td>1</td>\n",
       "      <td>1740</td>\n",
       "      <td>238</td>\n",
       "      <td>1809.0</td>\n",
       "      <td>22359.0</td>\n",
       "    </tr>\n",
       "  </tbody>\n",
       "</table>\n",
       "</div>"
      ],
      "text/plain": [
       "     burnid  year region  runid  target_area  iteration  burned_forest_area  \\\n",
       "264   19136  2034  Coast      1         1740        238              1809.0   \n",
       "\n",
       "     ellipse_area  \n",
       "264       22359.0  "
      ]
     },
     "execution_count": 26,
     "metadata": {},
     "output_type": "execute_result"
    }
   ],
   "source": [
    "# what was the max number of iterations a fire required?\n",
    "df[df.iteration == df.iteration.max()]"
   ]
  }
 ],
 "metadata": {
  "kernelspec": {
   "display_name": "Python 3",
   "language": "python",
   "name": "python3"
  },
  "language_info": {
   "codemirror_mode": {
    "name": "ipython",
    "version": 3
   },
   "file_extension": ".py",
   "mimetype": "text/x-python",
   "name": "python",
   "nbconvert_exporter": "python",
   "pygments_lexer": "ipython3",
   "version": "3.7.2"
  }
 },
 "nbformat": 4,
 "nbformat_minor": 2
}
